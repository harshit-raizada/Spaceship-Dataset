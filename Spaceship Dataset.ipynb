{
 "cells": [
  {
   "cell_type": "markdown",
   "id": "64ef323c",
   "metadata": {},
   "source": [
    "### Importing necessary modules"
   ]
  },
  {
   "cell_type": "code",
   "execution_count": 19,
   "id": "5d31781e",
   "metadata": {},
   "outputs": [],
   "source": [
    "import pandas as pd\n",
    "import numpy as np\n",
    "from sklearn.ensemble import RandomForestRegressor"
   ]
  },
  {
   "cell_type": "code",
   "execution_count": 20,
   "id": "2bdff46e",
   "metadata": {},
   "outputs": [],
   "source": [
    "train = pd.read_csv('spaceship-titanic/train.csv', index_col = 'PassengerId')\n",
    "test = pd.read_csv('spaceship-titanic/test.csv', index_col = 'PassengerId')"
   ]
  },
  {
   "cell_type": "code",
   "execution_count": 21,
   "id": "489a457d",
   "metadata": {},
   "outputs": [
    {
     "name": "stdout",
     "output_type": "stream",
     "text": [
      "Train Shape:  (8693, 13)\n",
      "Test Shape:  (4277, 12)\n"
     ]
    }
   ],
   "source": [
    "print('Train Shape: ', train.shape)\n",
    "print('Test Shape: ', test.shape)"
   ]
  },
  {
   "cell_type": "markdown",
   "id": "a0531cd4",
   "metadata": {},
   "source": [
    "### Removing columns that are not required"
   ]
  },
  {
   "cell_type": "code",
   "execution_count": 22,
   "id": "48f96501",
   "metadata": {},
   "outputs": [],
   "source": [
    "train.drop(['Name'], axis = 1, inplace = True)\n",
    "test.drop(['Name'], axis = 1, inplace = True)"
   ]
  },
  {
   "cell_type": "code",
   "execution_count": 23,
   "id": "19be9ec6",
   "metadata": {},
   "outputs": [],
   "source": [
    "train[['deck', 'num', 'side']] = train['Cabin'].str.split('/', expand = True)\n",
    "train.drop(['Cabin'], axis = 1, inplace = True)"
   ]
  },
  {
   "cell_type": "code",
   "execution_count": 24,
   "id": "20de4fba",
   "metadata": {},
   "outputs": [],
   "source": [
    "test[['deck', 'num', 'side']] = test['Cabin'].str.split('/', expand = True)\n",
    "test.drop(['Cabin'], axis = 1, inplace = True)"
   ]
  },
  {
   "cell_type": "markdown",
   "id": "daf571a8",
   "metadata": {},
   "source": [
    "### Replacing all categorical values to numeric values"
   ]
  },
  {
   "cell_type": "code",
   "execution_count": 25,
   "id": "30461afd",
   "metadata": {},
   "outputs": [],
   "source": [
    "train['deck'] = train['deck'].replace({'A':0, 'B':1, 'C':2, 'D':3, 'E':4, 'F':5, 'G':6, 'T':7})\n",
    "test['deck'] = test['deck'].replace({'A':0, 'B':1, 'C':2, 'D':3, 'E':4, 'F':5, 'G':6, 'T':7})"
   ]
  },
  {
   "cell_type": "code",
   "execution_count": 26,
   "id": "e808f522",
   "metadata": {},
   "outputs": [],
   "source": [
    "train['side'] = train['side'].replace({'P':0, 'S':1})\n",
    "test['side'] = test['side'].replace({'P':0, 'S':1})"
   ]
  },
  {
   "cell_type": "code",
   "execution_count": 27,
   "id": "4a611623",
   "metadata": {},
   "outputs": [],
   "source": [
    "train['HomePlanet'] = train['HomePlanet'].replace({'Europa':0, 'Earth':1, 'Mars':2})\n",
    "test['HomePlanet'] = test['HomePlanet'].replace({'Europa':0, 'Earth':1, 'Mars':2})"
   ]
  },
  {
   "cell_type": "code",
   "execution_count": 28,
   "id": "0b6bad69",
   "metadata": {},
   "outputs": [],
   "source": [
    "train['Destination'] = train['Destination'].replace({'TRAPPIST-1e':0, '55 Cancri e':1, 'PSO J318.5-22':2})\n",
    "test['Destination'] = test['Destination'].replace({'TRAPPIST-1e':0, '55 Cancri e':1, 'PSO J318.5-22':2})"
   ]
  },
  {
   "cell_type": "code",
   "execution_count": 29,
   "id": "acb18864",
   "metadata": {},
   "outputs": [],
   "source": [
    "train[['CryoSleep', 'VIP', 'Transported']] = (train[['CryoSleep', 'VIP', 'Transported']] == True).astype(int)\n",
    "test[['CryoSleep', 'VIP']] = (test[['CryoSleep', 'VIP']] == True).astype(int)"
   ]
  },
  {
   "cell_type": "markdown",
   "id": "23bf60fb",
   "metadata": {},
   "source": [
    "### Count of null values"
   ]
  },
  {
   "cell_type": "code",
   "execution_count": 30,
   "id": "de69eeb4",
   "metadata": {},
   "outputs": [],
   "source": [
    "nulls = pd.DataFrame(train.isnull().sum().sort_values(ascending = False)[:25])\n",
    "nulls.columns = ['Null Count']\n",
    "nulls.index.name = 'Features'"
   ]
  },
  {
   "cell_type": "code",
   "execution_count": 31,
   "id": "53be500f",
   "metadata": {},
   "outputs": [
    {
     "data": {
      "text/plain": [
       "0"
      ]
     },
     "execution_count": 31,
     "metadata": {},
     "output_type": "execute_result"
    }
   ],
   "source": [
    "train = train.select_dtypes(include=[np.number]).interpolate().dropna()\n",
    "test = test.select_dtypes(include=[np.number]).interpolate().dropna()\n",
    "\n",
    "sum(train.isnull().sum() != 0)"
   ]
  },
  {
   "cell_type": "markdown",
   "id": "67e6112c",
   "metadata": {},
   "source": [
    "### Applying random forest algorithm on the dataset"
   ]
  },
  {
   "cell_type": "code",
   "execution_count": 32,
   "id": "7956e2c4",
   "metadata": {},
   "outputs": [
    {
     "data": {
      "text/plain": [
       "((8693, 12), (8693,), (4277, 12))"
      ]
     },
     "execution_count": 32,
     "metadata": {},
     "output_type": "execute_result"
    }
   ],
   "source": [
    "X_train = train.drop(\"Transported\", axis=1)\n",
    "Y_train = train[\"Transported\"]\n",
    "X_test  = test\n",
    "X_train.shape, Y_train.shape, X_test.shape"
   ]
  },
  {
   "cell_type": "code",
   "execution_count": 33,
   "id": "e12acb6a",
   "metadata": {},
   "outputs": [],
   "source": [
    "model = RandomForestRegressor(n_estimators = 3)\n",
    "model.fit(X_train, Y_train)\n",
    "pred_y = model.predict(X_test)\n",
    "pred_y = pred_y.round(0).astype(bool)"
   ]
  },
  {
   "cell_type": "markdown",
   "id": "d1bcecc3",
   "metadata": {},
   "source": [
    "### Testing accuracy"
   ]
  },
  {
   "cell_type": "code",
   "execution_count": 34,
   "id": "030f03ef",
   "metadata": {},
   "outputs": [
    {
     "name": "stdout",
     "output_type": "stream",
     "text": [
      "Training Score:  0.7345690034412904\n",
      "Testing Score:  0.8158087668517756\n"
     ]
    }
   ],
   "source": [
    "print('Training Score: ', model.score(X_train, Y_train))\n",
    "print('Testing Score: ', model.score(X_test, pred_y))"
   ]
  },
  {
   "cell_type": "markdown",
   "id": "96e3c950",
   "metadata": {},
   "source": [
    "### Creating a csv file called 'submission.csv'"
   ]
  },
  {
   "cell_type": "code",
   "execution_count": 35,
   "id": "7490dff2",
   "metadata": {},
   "outputs": [],
   "source": [
    "output = pd.DataFrame({'PassengerId': test.index, 'Transported': pred_y})\n",
    "output.to_csv('spaceship-titanic/submission.csv', index = False)"
   ]
  }
 ],
 "metadata": {
  "kernelspec": {
   "display_name": "Python 3",
   "language": "python",
   "name": "python3"
  },
  "language_info": {
   "codemirror_mode": {
    "name": "ipython",
    "version": 3
   },
   "file_extension": ".py",
   "mimetype": "text/x-python",
   "name": "python",
   "nbconvert_exporter": "python",
   "pygments_lexer": "ipython3",
   "version": "3.8.8"
  }
 },
 "nbformat": 4,
 "nbformat_minor": 5
}
